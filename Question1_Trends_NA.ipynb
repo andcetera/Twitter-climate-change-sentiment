{
 "cells": [
  {
   "cell_type": "markdown",
   "metadata": {},
   "source": [
    "## Exploring Trends in North America\n",
    "\n",
    "Are there any trends in sentiment, aggression, or stance over time in North America? Are there any trends that coincide with current events? "
   ]
  },
  {
   "cell_type": "markdown",
   "metadata": {},
   "source": [
    "### Imports"
   ]
  },
  {
   "cell_type": "code",
   "execution_count": 27,
   "metadata": {},
   "outputs": [],
   "source": [
    "#Import dependencies\n",
    "import pandas as pd\n",
    "import os\n",
    "import matplotlib.pyplot as plt\n",
    "import hvplot.pandas\n",
    "from scipy.stats import linregress\n",
    "import numpy as np\n",
    "from scipy.optimize import curve_fit"
   ]
  },
  {
   "cell_type": "code",
   "execution_count": 3,
   "metadata": {},
   "outputs": [
    {
     "data": {
      "text/html": [
       "<div>\n",
       "<style scoped>\n",
       "    .dataframe tbody tr th:only-of-type {\n",
       "        vertical-align: middle;\n",
       "    }\n",
       "\n",
       "    .dataframe tbody tr th {\n",
       "        vertical-align: top;\n",
       "    }\n",
       "\n",
       "    .dataframe thead th {\n",
       "        text-align: right;\n",
       "    }\n",
       "</style>\n",
       "<table border=\"1\" class=\"dataframe\">\n",
       "  <thead>\n",
       "    <tr style=\"text-align: right;\">\n",
       "      <th></th>\n",
       "      <th>Unnamed: 0</th>\n",
       "      <th>created_at</th>\n",
       "      <th>lat</th>\n",
       "      <th>lng</th>\n",
       "      <th>sentiment</th>\n",
       "      <th>topic</th>\n",
       "      <th>stance</th>\n",
       "      <th>gender</th>\n",
       "      <th>aggressiveness</th>\n",
       "    </tr>\n",
       "  </thead>\n",
       "  <tbody>\n",
       "    <tr>\n",
       "      <th>0</th>\n",
       "      <td>8037902</td>\n",
       "      <td>2018-01-31 20:40:44+00:00</td>\n",
       "      <td>40.441694</td>\n",
       "      <td>-79.990086</td>\n",
       "      <td>-0.120697</td>\n",
       "      <td>Politics</td>\n",
       "      <td>believer</td>\n",
       "      <td>male</td>\n",
       "      <td>aggressive</td>\n",
       "    </tr>\n",
       "    <tr>\n",
       "      <th>1</th>\n",
       "      <td>8790126</td>\n",
       "      <td>2018-03-15 21:28:05+00:00</td>\n",
       "      <td>38.895110</td>\n",
       "      <td>-77.036370</td>\n",
       "      <td>-0.378573</td>\n",
       "      <td>Global stance</td>\n",
       "      <td>believer</td>\n",
       "      <td>male</td>\n",
       "      <td>not aggressive</td>\n",
       "    </tr>\n",
       "    <tr>\n",
       "      <th>2</th>\n",
       "      <td>11647260</td>\n",
       "      <td>2018-09-29 14:42:56+00:00</td>\n",
       "      <td>44.000340</td>\n",
       "      <td>-72.749830</td>\n",
       "      <td>-0.216689</td>\n",
       "      <td>Politics</td>\n",
       "      <td>believer</td>\n",
       "      <td>female</td>\n",
       "      <td>not aggressive</td>\n",
       "    </tr>\n",
       "    <tr>\n",
       "      <th>3</th>\n",
       "      <td>11810796</td>\n",
       "      <td>2018-10-08 22:23:50+00:00</td>\n",
       "      <td>39.952330</td>\n",
       "      <td>-75.163790</td>\n",
       "      <td>-0.687731</td>\n",
       "      <td>Global stance</td>\n",
       "      <td>believer</td>\n",
       "      <td>female</td>\n",
       "      <td>not aggressive</td>\n",
       "    </tr>\n",
       "    <tr>\n",
       "      <th>4</th>\n",
       "      <td>13183104</td>\n",
       "      <td>2018-12-16 11:52:40+00:00</td>\n",
       "      <td>45.421106</td>\n",
       "      <td>-75.690308</td>\n",
       "      <td>0.611834</td>\n",
       "      <td>Weather Extremes</td>\n",
       "      <td>believer</td>\n",
       "      <td>male</td>\n",
       "      <td>not aggressive</td>\n",
       "    </tr>\n",
       "  </tbody>\n",
       "</table>\n",
       "</div>"
      ],
      "text/plain": [
       "   Unnamed: 0                 created_at        lat        lng  sentiment  \\\n",
       "0     8037902  2018-01-31 20:40:44+00:00  40.441694 -79.990086  -0.120697   \n",
       "1     8790126  2018-03-15 21:28:05+00:00  38.895110 -77.036370  -0.378573   \n",
       "2    11647260  2018-09-29 14:42:56+00:00  44.000340 -72.749830  -0.216689   \n",
       "3    11810796  2018-10-08 22:23:50+00:00  39.952330 -75.163790  -0.687731   \n",
       "4    13183104  2018-12-16 11:52:40+00:00  45.421106 -75.690308   0.611834   \n",
       "\n",
       "              topic    stance  gender  aggressiveness  \n",
       "0          Politics  believer    male      aggressive  \n",
       "1     Global stance  believer    male  not aggressive  \n",
       "2          Politics  believer  female  not aggressive  \n",
       "3     Global stance  believer  female  not aggressive  \n",
       "4  Weather Extremes  believer    male  not aggressive  "
      ]
     },
     "execution_count": 3,
     "metadata": {},
     "output_type": "execute_result"
    }
   ],
   "source": [
    "# Import Data\n",
    "path = os.path.join(\"Resources\", \"NA_sample_020.csv\")\n",
    "df = pd.read_csv(path)\n",
    "df.head()"
   ]
  },
  {
   "cell_type": "markdown",
   "metadata": {},
   "source": [
    "### Set Up DataFrame"
   ]
  },
  {
   "cell_type": "code",
   "execution_count": 4,
   "metadata": {},
   "outputs": [
    {
     "name": "stderr",
     "output_type": "stream",
     "text": [
      "/Users/jennifershulyak/opt/anaconda3/lib/python3.9/site-packages/pandas/core/arrays/datetimes.py:1162: UserWarning: Converting to PeriodArray/Index representation will drop timezone information.\n",
      "  warnings.warn(\n"
     ]
    },
    {
     "data": {
      "text/html": [
       "<div>\n",
       "<style scoped>\n",
       "    .dataframe tbody tr th:only-of-type {\n",
       "        vertical-align: middle;\n",
       "    }\n",
       "\n",
       "    .dataframe tbody tr th {\n",
       "        vertical-align: top;\n",
       "    }\n",
       "\n",
       "    .dataframe thead th {\n",
       "        text-align: right;\n",
       "    }\n",
       "</style>\n",
       "<table border=\"1\" class=\"dataframe\">\n",
       "  <thead>\n",
       "    <tr style=\"text-align: right;\">\n",
       "      <th></th>\n",
       "      <th>created_at</th>\n",
       "      <th>lat</th>\n",
       "      <th>lng</th>\n",
       "      <th>sentiment</th>\n",
       "      <th>topic</th>\n",
       "      <th>stance</th>\n",
       "      <th>gender</th>\n",
       "      <th>aggressiveness</th>\n",
       "      <th>date</th>\n",
       "      <th>year</th>\n",
       "    </tr>\n",
       "  </thead>\n",
       "  <tbody>\n",
       "    <tr>\n",
       "      <th>0</th>\n",
       "      <td>2018-01-31 20:40:44+00:00</td>\n",
       "      <td>40.441694</td>\n",
       "      <td>-79.990086</td>\n",
       "      <td>-0.120697</td>\n",
       "      <td>Politics</td>\n",
       "      <td>believer</td>\n",
       "      <td>male</td>\n",
       "      <td>aggressive</td>\n",
       "      <td>2018-01</td>\n",
       "      <td>2018</td>\n",
       "    </tr>\n",
       "    <tr>\n",
       "      <th>1</th>\n",
       "      <td>2018-03-15 21:28:05+00:00</td>\n",
       "      <td>38.895110</td>\n",
       "      <td>-77.036370</td>\n",
       "      <td>-0.378573</td>\n",
       "      <td>Global stance</td>\n",
       "      <td>believer</td>\n",
       "      <td>male</td>\n",
       "      <td>not aggressive</td>\n",
       "      <td>2018-03</td>\n",
       "      <td>2018</td>\n",
       "    </tr>\n",
       "    <tr>\n",
       "      <th>2</th>\n",
       "      <td>2018-09-29 14:42:56+00:00</td>\n",
       "      <td>44.000340</td>\n",
       "      <td>-72.749830</td>\n",
       "      <td>-0.216689</td>\n",
       "      <td>Politics</td>\n",
       "      <td>believer</td>\n",
       "      <td>female</td>\n",
       "      <td>not aggressive</td>\n",
       "      <td>2018-09</td>\n",
       "      <td>2018</td>\n",
       "    </tr>\n",
       "    <tr>\n",
       "      <th>3</th>\n",
       "      <td>2018-10-08 22:23:50+00:00</td>\n",
       "      <td>39.952330</td>\n",
       "      <td>-75.163790</td>\n",
       "      <td>-0.687731</td>\n",
       "      <td>Global stance</td>\n",
       "      <td>believer</td>\n",
       "      <td>female</td>\n",
       "      <td>not aggressive</td>\n",
       "      <td>2018-10</td>\n",
       "      <td>2018</td>\n",
       "    </tr>\n",
       "    <tr>\n",
       "      <th>4</th>\n",
       "      <td>2018-12-16 11:52:40+00:00</td>\n",
       "      <td>45.421106</td>\n",
       "      <td>-75.690308</td>\n",
       "      <td>0.611834</td>\n",
       "      <td>Weather Extremes</td>\n",
       "      <td>believer</td>\n",
       "      <td>male</td>\n",
       "      <td>not aggressive</td>\n",
       "      <td>2018-12</td>\n",
       "      <td>2018</td>\n",
       "    </tr>\n",
       "  </tbody>\n",
       "</table>\n",
       "</div>"
      ],
      "text/plain": [
       "                 created_at        lat        lng  sentiment  \\\n",
       "0 2018-01-31 20:40:44+00:00  40.441694 -79.990086  -0.120697   \n",
       "1 2018-03-15 21:28:05+00:00  38.895110 -77.036370  -0.378573   \n",
       "2 2018-09-29 14:42:56+00:00  44.000340 -72.749830  -0.216689   \n",
       "3 2018-10-08 22:23:50+00:00  39.952330 -75.163790  -0.687731   \n",
       "4 2018-12-16 11:52:40+00:00  45.421106 -75.690308   0.611834   \n",
       "\n",
       "              topic    stance  gender  aggressiveness     date  year  \n",
       "0          Politics  believer    male      aggressive  2018-01  2018  \n",
       "1     Global stance  believer    male  not aggressive  2018-03  2018  \n",
       "2          Politics  believer  female  not aggressive  2018-09  2018  \n",
       "3     Global stance  believer  female  not aggressive  2018-10  2018  \n",
       "4  Weather Extremes  believer    male  not aggressive  2018-12  2018  "
      ]
     },
     "execution_count": 4,
     "metadata": {},
     "output_type": "execute_result"
    }
   ],
   "source": [
    "# Create new df with column with month and date\n",
    "dates = pd.to_datetime(df[\"created_at\"], infer_datetime_format=True)\n",
    "df_month = df.loc[:, [\"created_at\", \"lat\", \"lng\", \"sentiment\", \"topic\", \"stance\", \"gender\", \"aggressiveness\"]]\n",
    "df_month[\"created_at\"] = dates\n",
    "df_month['date'] = df_month['created_at'].dt.to_period('M')\n",
    "\n",
    "#Add a column for the year\n",
    "df_month['year'] = df_month['created_at'].dt.year\n",
    "\n",
    "df_month.head()"
   ]
  },
  {
   "cell_type": "markdown",
   "metadata": {},
   "source": [
    "# Looking at Stance, Aggression, and Sentiment Over Time"
   ]
  },
  {
   "cell_type": "code",
   "execution_count": 15,
   "metadata": {},
   "outputs": [
    {
     "data": {
      "text/html": [
       "<div>\n",
       "<style scoped>\n",
       "    .dataframe tbody tr th:only-of-type {\n",
       "        vertical-align: middle;\n",
       "    }\n",
       "\n",
       "    .dataframe tbody tr th {\n",
       "        vertical-align: top;\n",
       "    }\n",
       "\n",
       "    .dataframe thead th {\n",
       "        text-align: right;\n",
       "    }\n",
       "</style>\n",
       "<table border=\"1\" class=\"dataframe\">\n",
       "  <thead>\n",
       "    <tr style=\"text-align: right;\">\n",
       "      <th></th>\n",
       "      <th>created_at</th>\n",
       "      <th>lat</th>\n",
       "      <th>lng</th>\n",
       "      <th>sentiment</th>\n",
       "      <th>topic</th>\n",
       "      <th>stance</th>\n",
       "      <th>gender</th>\n",
       "      <th>aggressiveness</th>\n",
       "      <th>date</th>\n",
       "      <th>year</th>\n",
       "      <th>aggressiveness_factor</th>\n",
       "      <th>stance_factor</th>\n",
       "    </tr>\n",
       "  </thead>\n",
       "  <tbody>\n",
       "    <tr>\n",
       "      <th>0</th>\n",
       "      <td>2018-01-31 20:40:44+00:00</td>\n",
       "      <td>40.441694</td>\n",
       "      <td>-79.990086</td>\n",
       "      <td>-0.120697</td>\n",
       "      <td>Politics</td>\n",
       "      <td>believer</td>\n",
       "      <td>male</td>\n",
       "      <td>aggressive</td>\n",
       "      <td>2018-01</td>\n",
       "      <td>2018</td>\n",
       "      <td>100.0</td>\n",
       "      <td>100.0</td>\n",
       "    </tr>\n",
       "    <tr>\n",
       "      <th>1</th>\n",
       "      <td>2018-03-15 21:28:05+00:00</td>\n",
       "      <td>38.895110</td>\n",
       "      <td>-77.036370</td>\n",
       "      <td>-0.378573</td>\n",
       "      <td>Global stance</td>\n",
       "      <td>believer</td>\n",
       "      <td>male</td>\n",
       "      <td>not aggressive</td>\n",
       "      <td>2018-03</td>\n",
       "      <td>2018</td>\n",
       "      <td>0.0</td>\n",
       "      <td>100.0</td>\n",
       "    </tr>\n",
       "    <tr>\n",
       "      <th>2</th>\n",
       "      <td>2018-09-29 14:42:56+00:00</td>\n",
       "      <td>44.000340</td>\n",
       "      <td>-72.749830</td>\n",
       "      <td>-0.216689</td>\n",
       "      <td>Politics</td>\n",
       "      <td>believer</td>\n",
       "      <td>female</td>\n",
       "      <td>not aggressive</td>\n",
       "      <td>2018-09</td>\n",
       "      <td>2018</td>\n",
       "      <td>0.0</td>\n",
       "      <td>100.0</td>\n",
       "    </tr>\n",
       "    <tr>\n",
       "      <th>3</th>\n",
       "      <td>2018-10-08 22:23:50+00:00</td>\n",
       "      <td>39.952330</td>\n",
       "      <td>-75.163790</td>\n",
       "      <td>-0.687731</td>\n",
       "      <td>Global stance</td>\n",
       "      <td>believer</td>\n",
       "      <td>female</td>\n",
       "      <td>not aggressive</td>\n",
       "      <td>2018-10</td>\n",
       "      <td>2018</td>\n",
       "      <td>0.0</td>\n",
       "      <td>100.0</td>\n",
       "    </tr>\n",
       "    <tr>\n",
       "      <th>4</th>\n",
       "      <td>2018-12-16 11:52:40+00:00</td>\n",
       "      <td>45.421106</td>\n",
       "      <td>-75.690308</td>\n",
       "      <td>0.611834</td>\n",
       "      <td>Weather Extremes</td>\n",
       "      <td>believer</td>\n",
       "      <td>male</td>\n",
       "      <td>not aggressive</td>\n",
       "      <td>2018-12</td>\n",
       "      <td>2018</td>\n",
       "      <td>0.0</td>\n",
       "      <td>100.0</td>\n",
       "    </tr>\n",
       "  </tbody>\n",
       "</table>\n",
       "</div>"
      ],
      "text/plain": [
       "                 created_at        lat        lng  sentiment  \\\n",
       "0 2018-01-31 20:40:44+00:00  40.441694 -79.990086  -0.120697   \n",
       "1 2018-03-15 21:28:05+00:00  38.895110 -77.036370  -0.378573   \n",
       "2 2018-09-29 14:42:56+00:00  44.000340 -72.749830  -0.216689   \n",
       "3 2018-10-08 22:23:50+00:00  39.952330 -75.163790  -0.687731   \n",
       "4 2018-12-16 11:52:40+00:00  45.421106 -75.690308   0.611834   \n",
       "\n",
       "              topic    stance  gender  aggressiveness     date  year  \\\n",
       "0          Politics  believer    male      aggressive  2018-01  2018   \n",
       "1     Global stance  believer    male  not aggressive  2018-03  2018   \n",
       "2          Politics  believer  female  not aggressive  2018-09  2018   \n",
       "3     Global stance  believer  female  not aggressive  2018-10  2018   \n",
       "4  Weather Extremes  believer    male  not aggressive  2018-12  2018   \n",
       "\n",
       "  aggressiveness_factor stance_factor  \n",
       "0                 100.0         100.0  \n",
       "1                   0.0         100.0  \n",
       "2                   0.0         100.0  \n",
       "3                   0.0         100.0  \n",
       "4                   0.0         100.0  "
      ]
     },
     "execution_count": 15,
     "metadata": {},
     "output_type": "execute_result"
    }
   ],
   "source": [
    "# Create new column for agressiveness factor\n",
    "df_month[\"aggressiveness_factor\"] = \" \"\n",
    "df_month[\"stance_factor\"] = \" \"\n",
    "\n",
    "#Loop through df and change the ag factor to 0 1 depending on the agressiveness\n",
    "for index, row in df_month.iterrows():\n",
    "    if row[\"aggressiveness\"] == \"aggressive\":\n",
    "        df_month.loc[index, \"aggressiveness_factor\"] = 100.0\n",
    "    else:\n",
    "        df_month.loc[index, \"aggressiveness_factor\"] = 0.0 \n",
    "\n",
    "    if row[\"stance\"] == \"believer\":\n",
    "        df_month.loc[index, \"stance_factor\"] = 100.0\n",
    "    else:\n",
    "        df_month.loc[index, \"stance_factor\"] = 0.0\n",
    "\n",
    "df_month.head()"
   ]
  },
  {
   "cell_type": "code",
   "execution_count": 16,
   "metadata": {},
   "outputs": [],
   "source": [
    "# Change the type for the factors to be floats\n",
    "df_month = df_month.astype({\n",
    "    \"aggressiveness_factor\": \"float64\",\n",
    "    \"stance_factor\": \"float64\"\n",
    "})\n",
    "\n",
    "# Take the Average Sentiment, aggressiveness, and stance for each month using Groupby\n",
    "df_averages = df_month.groupby(\"date\")[[\"aggressiveness_factor\", \"stance_factor\", \"sentiment\"]].mean() \n",
    "# The aggressiveness and stance factors give the percentages of people who are aggressive or believe in climate change"
   ]
  },
  {
   "cell_type": "markdown",
   "metadata": {},
   "source": [
    "### Plot Sentiment, Aggressiveness, and Stance Over Time"
   ]
  },
  {
   "cell_type": "code",
   "execution_count": 21,
   "metadata": {},
   "outputs": [
    {
     "data": {
      "image/png": "[encoded data removed]",
      "text/plain": [
       "<Figure size 720x720 with 3 Axes>"
      ]
     },
     "metadata": {
      "needs_background": "light"
     },
     "output_type": "display_data"
    }
   ],
   "source": [
    "#Plot \n",
    "axes = df_averages.plot(subplots=True, figsize=(10, 10)); plt.legend(loc='best')\n",
    "axes[0].set_ylabel(\"Aggressive Tweets %\")\n",
    "axes[0].legend(loc = \"best\")\n",
    "axes[1].set_ylabel(\"Believer Tweets %\")\n",
    "axes[1].legend(loc = \"best\")\n",
    "axes[2].set_ylabel(\"Average Sentiment (from -1 to 1)\")\n",
    "axes[0].set_title(\"Sentiment, Aggression, and Stance Over Time\")\n",
    "\n",
    "# Save plot\n",
    "plt.savefig(\"Images/Trends.png\")\n"
   ]
  },
  {
   "cell_type": "markdown",
   "metadata": {},
   "source": [
    "# Taking a Closer Look at Stance Over Time"
   ]
  },
  {
   "cell_type": "code",
   "execution_count": 24,
   "metadata": {},
   "outputs": [
    {
     "data": {
      "text/plain": [
       "<AxesSubplot:xlabel='date', ylabel='stance_factor'>"
      ]
     },
     "execution_count": 24,
     "metadata": {},
     "output_type": "execute_result"
    },
    {
     "data": {
      "image/png": "[encoded data removed]",
      "text/plain": [
       "<Figure size 432x288 with 1 Axes>"
      ]
     },
     "metadata": {
      "needs_background": "light"
     },
     "output_type": "display_data"
    }
   ],
   "source": [
    "# Make a data frame with just stance\n",
    "series_stance = df_averages[\"stance_factor\"]\n",
    "df_stance = series_stance.to_frame()    # Convert the series back into a dataframe\n",
    "df_stance.reset_index(inplace=True) # Reset the index so that Date is a column\n",
    "df_stance[\"date\"] = df_stance[\"date\"].astype(\"datetime64\")  # Convert the dates into date time format\n",
    "df_stance.plot.scatter(x = \"date\", y = \"stance_factor\") "
   ]
  },
  {
   "cell_type": "markdown",
   "metadata": {},
   "source": [
    "### Linear Regression"
   ]
  },
  {
   "cell_type": "code",
   "execution_count": 25,
   "metadata": {},
   "outputs": [],
   "source": [
    "x_values = [x for x in range(len(df_stance))] #list(df_stance[\"date\"])\n",
    "y = list(df_stance[\"stance_factor\"])\n",
    "y_values = [100*y for y in y]\n",
    "(slope, intercept, rvalue, pvalue, stderr) = linregress(x_values, y_values)\n",
    "regress_values = [float(x) * slope + intercept for x in x_values]\n",
    "line_eq = \"y = \" + str(round(slope,2)) + \"x + \" + str(round(intercept,2))  "
   ]
  },
  {
   "cell_type": "markdown",
   "metadata": {},
   "source": [
    "### Exponential Regression"
   ]
  },
  {
   "cell_type": "code",
   "execution_count": 30,
   "metadata": {},
   "outputs": [
    {
     "ename": "RuntimeError",
     "evalue": "Optimal parameters not found: Number of calls to function has reached maxfev = 800.",
     "output_type": "error",
     "traceback": [
      "\u001b[0;31m---------------------------------------------------------------------------\u001b[0m",
      "\u001b[0;31mRuntimeError\u001b[0m                              Traceback (most recent call last)",
      "\u001b[1;32m/Users/jennifershulyak/Desktop/Data_Bootcamp_2022/Twitter-climate-change-sentiment/Question1_Trends_NA.ipynb Cell 17\u001b[0m in \u001b[0;36m<cell line: 6>\u001b[0;34m()\u001b[0m\n\u001b[1;32m      <a href='vscode-notebook-cell:/Users/jennifershulyak/Desktop/Data_Bootcamp_2022/Twitter-climate-change-sentiment/Question1_Trends_NA.ipynb#X25sZmlsZQ%3D%3D?line=2'>3</a>\u001b[0m x_data \u001b[39m=\u001b[39m np\u001b[39m.\u001b[39marray(x_values) \n\u001b[1;32m      <a href='vscode-notebook-cell:/Users/jennifershulyak/Desktop/Data_Bootcamp_2022/Twitter-climate-change-sentiment/Question1_Trends_NA.ipynb#X25sZmlsZQ%3D%3D?line=3'>4</a>\u001b[0m y_data \u001b[39m=\u001b[39m np\u001b[39m.\u001b[39marray(y_values)\n\u001b[0;32m----> <a href='vscode-notebook-cell:/Users/jennifershulyak/Desktop/Data_Bootcamp_2022/Twitter-climate-change-sentiment/Question1_Trends_NA.ipynb#X25sZmlsZQ%3D%3D?line=5'>6</a>\u001b[0m popt, pcov \u001b[39m=\u001b[39m curve_fit(func_exp, x_data, y_data, p0 \u001b[39m=\u001b[39;49m (\u001b[39m-\u001b[39;49m\u001b[39m1\u001b[39;49m, \u001b[39m0.01\u001b[39;49m, \u001b[39m1\u001b[39;49m))\n",
      "File \u001b[0;32m~/opt/anaconda3/lib/python3.9/site-packages/scipy/optimize/minpack.py:794\u001b[0m, in \u001b[0;36mcurve_fit\u001b[0;34m(f, xdata, ydata, p0, sigma, absolute_sigma, check_finite, bounds, method, jac, **kwargs)\u001b[0m\n\u001b[1;32m    792\u001b[0m     cost \u001b[39m=\u001b[39m np\u001b[39m.\u001b[39msum(infodict[\u001b[39m'\u001b[39m\u001b[39mfvec\u001b[39m\u001b[39m'\u001b[39m] \u001b[39m*\u001b[39m\u001b[39m*\u001b[39m \u001b[39m2\u001b[39m)\n\u001b[1;32m    793\u001b[0m     \u001b[39mif\u001b[39;00m ier \u001b[39mnot\u001b[39;00m \u001b[39min\u001b[39;00m [\u001b[39m1\u001b[39m, \u001b[39m2\u001b[39m, \u001b[39m3\u001b[39m, \u001b[39m4\u001b[39m]:\n\u001b[0;32m--> 794\u001b[0m         \u001b[39mraise\u001b[39;00m \u001b[39mRuntimeError\u001b[39;00m(\u001b[39m\"\u001b[39m\u001b[39mOptimal parameters not found: \u001b[39m\u001b[39m\"\u001b[39m \u001b[39m+\u001b[39m errmsg)\n\u001b[1;32m    795\u001b[0m \u001b[39melse\u001b[39;00m:\n\u001b[1;32m    796\u001b[0m     \u001b[39m# Rename maxfev (leastsq) to max_nfev (least_squares), if specified.\u001b[39;00m\n\u001b[1;32m    797\u001b[0m     \u001b[39mif\u001b[39;00m \u001b[39m'\u001b[39m\u001b[39mmax_nfev\u001b[39m\u001b[39m'\u001b[39m \u001b[39mnot\u001b[39;00m \u001b[39min\u001b[39;00m kwargs:\n",
      "\u001b[0;31mRuntimeError\u001b[0m: Optimal parameters not found: Number of calls to function has reached maxfev = 800."
     ]
    }
   ],
   "source": [
    "def func_exp(x, a, b, c):\n",
    "        return a * np.exp(b * x) + c\n",
    "x_data = np.array(x_values) \n",
    "y_data = np.array(y_values)\n",
    "\n",
    "popt, pcov = curve_fit(func_exp, x_data, y_data, p0 = (-1, 0.01, 1))\n",
    "\n",
    "\n",
    "# data_raw = plt.plot(x_data, y_data, 'o', label = \"data\")\n",
    "# curve_exp = plt.plot(x_data, func_exp(x_data, *popt), color = \"red\", label = \"fit: {:.3f}, {:.3f}, {:.3f}\".format(*popt))\n",
    "\n"
   ]
  },
  {
   "cell_type": "markdown",
   "metadata": {},
   "source": [
    "### Plot Both Regressions Together"
   ]
  },
  {
   "cell_type": "code",
   "execution_count": null,
   "metadata": {},
   "outputs": [],
   "source": [
    "#\n",
    "regression_stance, axs = plt.subplots(1, 2, figsize=(11, 5), sharey=True)\n",
    "\n",
    "axs[0].scatter(x_data, y_data)\n",
    "axs[0].plot(x_data, regress_values, color = \"red\")\n",
    "axs[0].set_title(\"Linear Regression\")\n",
    "axs[0].set_xlabel(\"Number of Months\")\n",
    "axs[1].scatter(x_data, y_data)\n",
    "axs[1].plot(x_data, func_exp(x_data, *popt), color = \"red\")\n",
    "axs[1].set_title(\"Exponential Fit\")\n",
    "axs[1].set_xlabel(\"Number of Months\")\n",
    "axs[0].set_ylabel(\"Percent of Believer Tweets\")\n",
    "regression_stance.suptitle('Best Fit for Believers Over Time')"
   ]
  },
  {
   "cell_type": "markdown",
   "metadata": {},
   "source": []
  }
 ],
 "metadata": {
  "kernelspec": {
   "display_name": "Python 3.9.12 ('base')",
   "language": "python",
   "name": "python3"
  },
  "language_info": {
   "codemirror_mode": {
    "name": "ipython",
    "version": 3
   },
   "file_extension": ".py",
   "mimetype": "text/x-python",
   "name": "python",
   "nbconvert_exporter": "python",
   "pygments_lexer": "ipython3",
   "version": "3.9.12"
  },
  "orig_nbformat": 4,
  "vscode": {
   "interpreter": {
    "hash": "8ca3c2b93fec3a68989a8a35ad4ad37f554c7436255229aa8dbd97e50d16e03f"
   }
  }
 },
 "nbformat": 4,
 "nbformat_minor": 2
}
