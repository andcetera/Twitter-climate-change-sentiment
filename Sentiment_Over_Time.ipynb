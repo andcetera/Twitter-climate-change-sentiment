{
 "cells": [
  {
   "cell_type": "markdown",
   "metadata": {},
   "source": [
    "# Set Up"
   ]
  },
  {
   "cell_type": "code",
   "execution_count": 18,
   "metadata": {},
   "outputs": [],
   "source": [
    "#Import dependencies\n",
    "import pandas as pd\n",
    "import os\n",
    "import matplotlib.pyplot as plt\n",
    "import hvplot.pandas\n"
   ]
  },
  {
   "cell_type": "code",
   "execution_count": 19,
   "metadata": {},
   "outputs": [
    {
     "data": {
      "text/html": [
       "<div>\n",
       "<style scoped>\n",
       "    .dataframe tbody tr th:only-of-type {\n",
       "        vertical-align: middle;\n",
       "    }\n",
       "\n",
       "    .dataframe tbody tr th {\n",
       "        vertical-align: top;\n",
       "    }\n",
       "\n",
       "    .dataframe thead th {\n",
       "        text-align: right;\n",
       "    }\n",
       "</style>\n",
       "<table border=\"1\" class=\"dataframe\">\n",
       "  <thead>\n",
       "    <tr style=\"text-align: right;\">\n",
       "      <th></th>\n",
       "      <th>Unnamed: 0</th>\n",
       "      <th>created_at</th>\n",
       "      <th>lat</th>\n",
       "      <th>lng</th>\n",
       "      <th>sentiment</th>\n",
       "      <th>topic</th>\n",
       "      <th>stance</th>\n",
       "      <th>gender</th>\n",
       "      <th>aggressiveness</th>\n",
       "    </tr>\n",
       "  </thead>\n",
       "  <tbody>\n",
       "    <tr>\n",
       "      <th>0</th>\n",
       "      <td>8037902</td>\n",
       "      <td>2018-01-31 20:40:44+00:00</td>\n",
       "      <td>40.441694</td>\n",
       "      <td>-79.990086</td>\n",
       "      <td>-0.120697</td>\n",
       "      <td>Politics</td>\n",
       "      <td>believer</td>\n",
       "      <td>male</td>\n",
       "      <td>aggressive</td>\n",
       "    </tr>\n",
       "    <tr>\n",
       "      <th>1</th>\n",
       "      <td>8790126</td>\n",
       "      <td>2018-03-15 21:28:05+00:00</td>\n",
       "      <td>38.895110</td>\n",
       "      <td>-77.036370</td>\n",
       "      <td>-0.378573</td>\n",
       "      <td>Global stance</td>\n",
       "      <td>believer</td>\n",
       "      <td>male</td>\n",
       "      <td>not aggressive</td>\n",
       "    </tr>\n",
       "    <tr>\n",
       "      <th>2</th>\n",
       "      <td>11647260</td>\n",
       "      <td>2018-09-29 14:42:56+00:00</td>\n",
       "      <td>44.000340</td>\n",
       "      <td>-72.749830</td>\n",
       "      <td>-0.216689</td>\n",
       "      <td>Politics</td>\n",
       "      <td>believer</td>\n",
       "      <td>female</td>\n",
       "      <td>not aggressive</td>\n",
       "    </tr>\n",
       "    <tr>\n",
       "      <th>3</th>\n",
       "      <td>11810796</td>\n",
       "      <td>2018-10-08 22:23:50+00:00</td>\n",
       "      <td>39.952330</td>\n",
       "      <td>-75.163790</td>\n",
       "      <td>-0.687731</td>\n",
       "      <td>Global stance</td>\n",
       "      <td>believer</td>\n",
       "      <td>female</td>\n",
       "      <td>not aggressive</td>\n",
       "    </tr>\n",
       "    <tr>\n",
       "      <th>4</th>\n",
       "      <td>13183104</td>\n",
       "      <td>2018-12-16 11:52:40+00:00</td>\n",
       "      <td>45.421106</td>\n",
       "      <td>-75.690308</td>\n",
       "      <td>0.611834</td>\n",
       "      <td>Weather Extremes</td>\n",
       "      <td>believer</td>\n",
       "      <td>male</td>\n",
       "      <td>not aggressive</td>\n",
       "    </tr>\n",
       "  </tbody>\n",
       "</table>\n",
       "</div>"
      ],
      "text/plain": [
       "   Unnamed: 0                 created_at        lat        lng  sentiment  \\\n",
       "0     8037902  2018-01-31 20:40:44+00:00  40.441694 -79.990086  -0.120697   \n",
       "1     8790126  2018-03-15 21:28:05+00:00  38.895110 -77.036370  -0.378573   \n",
       "2    11647260  2018-09-29 14:42:56+00:00  44.000340 -72.749830  -0.216689   \n",
       "3    11810796  2018-10-08 22:23:50+00:00  39.952330 -75.163790  -0.687731   \n",
       "4    13183104  2018-12-16 11:52:40+00:00  45.421106 -75.690308   0.611834   \n",
       "\n",
       "              topic    stance  gender  aggressiveness  \n",
       "0          Politics  believer    male      aggressive  \n",
       "1     Global stance  believer    male  not aggressive  \n",
       "2          Politics  believer  female  not aggressive  \n",
       "3     Global stance  believer  female  not aggressive  \n",
       "4  Weather Extremes  believer    male  not aggressive  "
      ]
     },
     "execution_count": 19,
     "metadata": {},
     "output_type": "execute_result"
    }
   ],
   "source": [
    "# Import data\n",
    "path = os.path.join(\"Resources\", \"NA_sample_020.csv\")\n",
    "df = pd.read_csv(path)\n",
    "df.head()"
   ]
  },
  {
   "cell_type": "markdown",
   "metadata": {},
   "source": [
    "## Create column with month and year"
   ]
  },
  {
   "cell_type": "code",
   "execution_count": 20,
   "metadata": {},
   "outputs": [
    {
     "name": "stderr",
     "output_type": "stream",
     "text": [
      "/Users/jennifershulyak/opt/anaconda3/lib/python3.9/site-packages/pandas/core/arrays/datetimes.py:1162: UserWarning: Converting to PeriodArray/Index representation will drop timezone information.\n",
      "  warnings.warn(\n"
     ]
    },
    {
     "data": {
      "text/html": [
       "<div>\n",
       "<style scoped>\n",
       "    .dataframe tbody tr th:only-of-type {\n",
       "        vertical-align: middle;\n",
       "    }\n",
       "\n",
       "    .dataframe tbody tr th {\n",
       "        vertical-align: top;\n",
       "    }\n",
       "\n",
       "    .dataframe thead th {\n",
       "        text-align: right;\n",
       "    }\n",
       "</style>\n",
       "<table border=\"1\" class=\"dataframe\">\n",
       "  <thead>\n",
       "    <tr style=\"text-align: right;\">\n",
       "      <th></th>\n",
       "      <th>created_at</th>\n",
       "      <th>lat</th>\n",
       "      <th>lng</th>\n",
       "      <th>sentiment</th>\n",
       "      <th>topic</th>\n",
       "      <th>stance</th>\n",
       "      <th>gender</th>\n",
       "      <th>aggressiveness</th>\n",
       "      <th>date</th>\n",
       "    </tr>\n",
       "  </thead>\n",
       "  <tbody>\n",
       "    <tr>\n",
       "      <th>0</th>\n",
       "      <td>2018-01-31 20:40:44+00:00</td>\n",
       "      <td>40.441694</td>\n",
       "      <td>-79.990086</td>\n",
       "      <td>-0.120697</td>\n",
       "      <td>Politics</td>\n",
       "      <td>believer</td>\n",
       "      <td>male</td>\n",
       "      <td>aggressive</td>\n",
       "      <td>2018-01</td>\n",
       "    </tr>\n",
       "    <tr>\n",
       "      <th>1</th>\n",
       "      <td>2018-03-15 21:28:05+00:00</td>\n",
       "      <td>38.895110</td>\n",
       "      <td>-77.036370</td>\n",
       "      <td>-0.378573</td>\n",
       "      <td>Global stance</td>\n",
       "      <td>believer</td>\n",
       "      <td>male</td>\n",
       "      <td>not aggressive</td>\n",
       "      <td>2018-03</td>\n",
       "    </tr>\n",
       "    <tr>\n",
       "      <th>2</th>\n",
       "      <td>2018-09-29 14:42:56+00:00</td>\n",
       "      <td>44.000340</td>\n",
       "      <td>-72.749830</td>\n",
       "      <td>-0.216689</td>\n",
       "      <td>Politics</td>\n",
       "      <td>believer</td>\n",
       "      <td>female</td>\n",
       "      <td>not aggressive</td>\n",
       "      <td>2018-09</td>\n",
       "    </tr>\n",
       "    <tr>\n",
       "      <th>3</th>\n",
       "      <td>2018-10-08 22:23:50+00:00</td>\n",
       "      <td>39.952330</td>\n",
       "      <td>-75.163790</td>\n",
       "      <td>-0.687731</td>\n",
       "      <td>Global stance</td>\n",
       "      <td>believer</td>\n",
       "      <td>female</td>\n",
       "      <td>not aggressive</td>\n",
       "      <td>2018-10</td>\n",
       "    </tr>\n",
       "    <tr>\n",
       "      <th>4</th>\n",
       "      <td>2018-12-16 11:52:40+00:00</td>\n",
       "      <td>45.421106</td>\n",
       "      <td>-75.690308</td>\n",
       "      <td>0.611834</td>\n",
       "      <td>Weather Extremes</td>\n",
       "      <td>believer</td>\n",
       "      <td>male</td>\n",
       "      <td>not aggressive</td>\n",
       "      <td>2018-12</td>\n",
       "    </tr>\n",
       "  </tbody>\n",
       "</table>\n",
       "</div>"
      ],
      "text/plain": [
       "                 created_at        lat        lng  sentiment  \\\n",
       "0 2018-01-31 20:40:44+00:00  40.441694 -79.990086  -0.120697   \n",
       "1 2018-03-15 21:28:05+00:00  38.895110 -77.036370  -0.378573   \n",
       "2 2018-09-29 14:42:56+00:00  44.000340 -72.749830  -0.216689   \n",
       "3 2018-10-08 22:23:50+00:00  39.952330 -75.163790  -0.687731   \n",
       "4 2018-12-16 11:52:40+00:00  45.421106 -75.690308   0.611834   \n",
       "\n",
       "              topic    stance  gender  aggressiveness     date  \n",
       "0          Politics  believer    male      aggressive  2018-01  \n",
       "1     Global stance  believer    male  not aggressive  2018-03  \n",
       "2          Politics  believer  female  not aggressive  2018-09  \n",
       "3     Global stance  believer  female  not aggressive  2018-10  \n",
       "4  Weather Extremes  believer    male  not aggressive  2018-12  "
      ]
     },
     "execution_count": 20,
     "metadata": {},
     "output_type": "execute_result"
    }
   ],
   "source": [
    "# Create new df with column with month and date\n",
    "dates = pd.to_datetime(df[\"created_at\"], infer_datetime_format=True)\n",
    "df_month = df.loc[:, [\"created_at\", \"lat\", \"lng\", \"sentiment\", \"topic\", \"stance\", \"gender\", \"aggressiveness\"]]\n",
    "df_month[\"created_at\"] = dates\n",
    "df_month['date'] = df_month['created_at'].dt.to_period('M')\n",
    "df_month.head()"
   ]
  },
  {
   "cell_type": "markdown",
   "metadata": {},
   "source": [
    "# Topics over Time"
   ]
  },
  {
   "cell_type": "code",
   "execution_count": 8,
   "metadata": {},
   "outputs": [
    {
     "data": {
      "text/plain": [
       "date     topic                           \n",
       "2007-01  Weather Extremes                      2\n",
       "2007-02  Global stance                         2\n",
       "         Seriousness of Gas Emissions          1\n",
       "         Weather Extremes                      1\n",
       "2007-03  Global stance                         1\n",
       "                                            ... \n",
       "2019-09  Undefined / One Word Hashtags        14\n",
       "         Weather Extremes                    137\n",
       "2019-10  Global stance                         8\n",
       "         Importance of Human Intervantion      1\n",
       "         Politics                              1\n",
       "Name: created_at, Length: 1461, dtype: int64"
      ]
     },
     "execution_count": 8,
     "metadata": {},
     "output_type": "execute_result"
    }
   ],
   "source": [
    "# Topics over time\n",
    "df_topics = df_month.groupby([\"date\", \"topic\"])[\"created_at\"].count()\n",
    "df_topics"
   ]
  },
  {
   "cell_type": "markdown",
   "metadata": {},
   "source": [
    "# Looking at stance, agression, and sentiment over time"
   ]
  },
  {
   "cell_type": "markdown",
   "metadata": {},
   "source": [
    "### Add columns to df to make it easy to see how factors change over time"
   ]
  },
  {
   "cell_type": "code",
   "execution_count": null,
   "metadata": {},
   "outputs": [],
   "source": [
    "# Create new column for agressiveness factor\n",
    "df_month[\"aggressiveness_factor\"] = \" \"\n",
    "df_month[\"stance_factor\"] = \" \"\n",
    "\n",
    "#Loop through df and change the ag factor to 0 1 depending on the agressiveness\n",
    "for index, row in df_month.iterrows():\n",
    "    if row[\"aggressiveness\"] == \"aggressive\":\n",
    "        row[\"aggressiveness_factor\"] = 1\n",
    "    else:\n",
    "        row[\"aggressiveness_factor\"] = 0 \n",
    "\n",
    "    if row[\"stance\"] == \"believer\":\n",
    "        row[\"stance_factor\"] = 1\n",
    "    else:\n",
    "        row[\"stance_factor\"] = 0\n",
    "\n",
    "df_month.head()\n"
   ]
  },
  {
   "cell_type": "code",
   "execution_count": 22,
   "metadata": {},
   "outputs": [],
   "source": [
    "# Average Sentiment over Time\n",
    "\n",
    "df_averages = df_month.groupby(\"date\")[\"sentiment\"].mean()\n",
    "#df_averages = df_month.groupby(\"date\")[\"sentiment\", \"aggressiveness_factor\", \"stance_factor\"].mean()\n"
   ]
  },
  {
   "cell_type": "markdown",
   "metadata": {},
   "source": [
    "### Plot average sentiment, agressiveness, and stances over time"
   ]
  },
  {
   "cell_type": "code",
   "execution_count": 28,
   "metadata": {},
   "outputs": [
    {
     "data": {
      "text/plain": [
       "<AxesSubplot:xlabel='date'>"
      ]
     },
     "execution_count": 28,
     "metadata": {},
     "output_type": "execute_result"
    },
    {
     "data": {
      "image/png": "[encoded data removed]",
      "text/plain": [
       "<Figure size 432x288 with 1 Axes>"
      ]
     },
     "metadata": {
      "needs_background": "light"
     },
     "output_type": "display_data"
    }
   ],
   "source": [
    "df_averages.plot()"
   ]
  },
  {
   "cell_type": "code",
   "execution_count": null,
   "metadata": {},
   "outputs": [],
   "source": []
  }
 ],
 "metadata": {
  "kernelspec": {
   "display_name": "Python 3.9.12 ('base')",
   "language": "python",
   "name": "python3"
  },
  "language_info": {
   "codemirror_mode": {
    "name": "ipython",
    "version": 3
   },
   "file_extension": ".py",
   "mimetype": "text/x-python",
   "name": "python",
   "nbconvert_exporter": "python",
   "pygments_lexer": "ipython3",
   "version": "3.9.12"
  },
  "orig_nbformat": 4,
  "vscode": {
   "interpreter": {
    "hash": "8ca3c2b93fec3a68989a8a35ad4ad37f554c7436255229aa8dbd97e50d16e03f"
   }
  }
 },
 "nbformat": 4,
 "nbformat_minor": 2
}
